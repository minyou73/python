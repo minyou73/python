{
 "cells": [
  {
   "cell_type": "code",
   "execution_count": 1,
   "id": "9eaf5b7c-10ab-407a-86df-971ed853d597",
   "metadata": {},
   "outputs": [
    {
     "name": "stdout",
     "output_type": "stream",
     "text": [
      "hello\n"
     ]
    }
   ],
   "source": [
    "print('hello')"
   ]
  },
  {
   "cell_type": "code",
   "execution_count": 3,
   "id": "d0627d66-0211-4a1b-b9ea-8dfa6db0f09b",
   "metadata": {},
   "outputs": [
    {
     "data": {
      "text/plain": [
       "'일이삼'"
      ]
     },
     "execution_count": 3,
     "metadata": {},
     "output_type": "execute_result"
    }
   ],
   "source": [
    "''.join(['일', '이', '삼'])     #. 앞에있는 친구의 세부적인 기능을 나타낸다"
   ]
  },
  {
   "cell_type": "code",
   "execution_count": 7,
   "id": "72dc0040-ed23-4cc7-a4e0-708fdb8790ca",
   "metadata": {},
   "outputs": [
    {
     "data": {
      "text/plain": [
       "['__add__',\n",
       " '__class__',\n",
       " '__contains__',\n",
       " '__delattr__',\n",
       " '__dir__',\n",
       " '__doc__',\n",
       " '__eq__',\n",
       " '__format__',\n",
       " '__ge__',\n",
       " '__getattribute__',\n",
       " '__getitem__',\n",
       " '__getnewargs__',\n",
       " '__getstate__',\n",
       " '__gt__',\n",
       " '__hash__',\n",
       " '__init__',\n",
       " '__init_subclass__',\n",
       " '__iter__',\n",
       " '__le__',\n",
       " '__len__',\n",
       " '__lt__',\n",
       " '__mod__',\n",
       " '__mul__',\n",
       " '__ne__',\n",
       " '__new__',\n",
       " '__reduce__',\n",
       " '__reduce_ex__',\n",
       " '__repr__',\n",
       " '__rmod__',\n",
       " '__rmul__',\n",
       " '__setattr__',\n",
       " '__sizeof__',\n",
       " '__str__',\n",
       " '__subclasshook__',\n",
       " 'capitalize',\n",
       " 'casefold',\n",
       " 'center',\n",
       " 'count',\n",
       " 'encode',\n",
       " 'endswith',\n",
       " 'expandtabs',\n",
       " 'find',\n",
       " 'format',\n",
       " 'format_map',\n",
       " 'index',\n",
       " 'isalnum',\n",
       " 'isalpha',\n",
       " 'isascii',\n",
       " 'isdecimal',\n",
       " 'isdigit',\n",
       " 'isidentifier',\n",
       " 'islower',\n",
       " 'isnumeric',\n",
       " 'isprintable',\n",
       " 'isspace',\n",
       " 'istitle',\n",
       " 'isupper',\n",
       " 'join',\n",
       " 'ljust',\n",
       " 'lower',\n",
       " 'lstrip',\n",
       " 'maketrans',\n",
       " 'partition',\n",
       " 'removeprefix',\n",
       " 'removesuffix',\n",
       " 'replace',\n",
       " 'rfind',\n",
       " 'rindex',\n",
       " 'rjust',\n",
       " 'rpartition',\n",
       " 'rsplit',\n",
       " 'rstrip',\n",
       " 'split',\n",
       " 'splitlines',\n",
       " 'startswith',\n",
       " 'strip',\n",
       " 'swapcase',\n",
       " 'title',\n",
       " 'translate',\n",
       " 'upper',\n",
       " 'zfill']"
      ]
     },
     "execution_count": 7,
     "metadata": {},
     "output_type": "execute_result"
    }
   ],
   "source": [
    "dir('hello')"
   ]
  },
  {
   "cell_type": "markdown",
   "id": "b256d3a8-ef61-4539-80d9-d3075063629a",
   "metadata": {},
   "source": [
    "# 문자열 메소드 (메소드==함수), 객체 안에들어있는건 메소드"
   ]
  },
  {
   "cell_type": "code",
   "execution_count": 8,
   "id": "914a7f52-130e-44bb-9259-2863ec08dd1f",
   "metadata": {},
   "outputs": [],
   "source": [
    "# (메소드==함수), 객체 안에들어있는건 메소드"
   ]
  },
  {
   "cell_type": "code",
   "execution_count": 15,
   "id": "6ce37ffe-9603-4fb8-9f5d-fb0e83416b8b",
   "metadata": {},
   "outputs": [],
   "source": [
    "a = 'hello my name is minjung'  #문자열은 immutable하기 때문에 수정 불가능"
   ]
  },
  {
   "cell_type": "code",
   "execution_count": 10,
   "id": "637f8a8c-00e3-49f1-a1de-11d699878a33",
   "metadata": {},
   "outputs": [
    {
     "name": "stdout",
     "output_type": "stream",
     "text": [
      "hello my name is minjung\n"
     ]
    }
   ],
   "source": [
    "print(a)"
   ]
  },
  {
   "cell_type": "code",
   "execution_count": 11,
   "id": "47495cd8-f064-4e48-ab09-788114076420",
   "metadata": {},
   "outputs": [
    {
     "name": "stdout",
     "output_type": "stream",
     "text": [
      "h\n"
     ]
    }
   ],
   "source": [
    "print(a[0])"
   ]
  },
  {
   "cell_type": "code",
   "execution_count": 12,
   "id": "a809e994-6982-44e6-95b9-2c3d5fc5ab8e",
   "metadata": {},
   "outputs": [
    {
     "ename": "TypeError",
     "evalue": "'str' object does not support item assignment",
     "output_type": "error",
     "traceback": [
      "\u001b[0;31m---------------------------------------------------------------------------\u001b[0m",
      "\u001b[0;31mTypeError\u001b[0m                                 Traceback (most recent call last)",
      "Cell \u001b[0;32mIn[12], line 1\u001b[0m\n\u001b[0;32m----> 1\u001b[0m \u001b[43ma\u001b[49m\u001b[43m[\u001b[49m\u001b[38;5;241;43m0\u001b[39;49m\u001b[43m]\u001b[49m \u001b[38;5;241m=\u001b[39m \u001b[38;5;124m'\u001b[39m\u001b[38;5;124mH\u001b[39m\u001b[38;5;124m'\u001b[39m\n",
      "\u001b[0;31mTypeError\u001b[0m: 'str' object does not support item assignment"
     ]
    }
   ],
   "source": [
    "a[0] = 'H'"
   ]
  },
  {
   "cell_type": "code",
   "execution_count": 14,
   "id": "b46126a0-63e4-40a0-95a2-c00cc4307004",
   "metadata": {},
   "outputs": [],
   "source": [
    "a = 'Hello my name is minjung'   #데이터 바꾸려면 다시 덮어줘야 한다 "
   ]
  },
  {
   "cell_type": "raw",
   "id": "f9c68e62-f91c-45a8-a778-86a1940e0571",
   "metadata": {},
   "source": []
  },
  {
   "cell_type": "code",
   "execution_count": 16,
   "id": "98216f6d-a9be-4534-a508-b1b7bab810cc",
   "metadata": {},
   "outputs": [],
   "source": [
    "a = 'hello my name is minjung' "
   ]
  },
  {
   "cell_type": "code",
   "execution_count": 19,
   "id": "207715d5-db19-499f-b78e-328e2b2966e5",
   "metadata": {},
   "outputs": [
    {
     "name": "stdout",
     "output_type": "stream",
     "text": [
      "hello my name is minjung\n"
     ]
    }
   ],
   "source": [
    "a.capitalize()    #원본에 있는 데이터는 변하지 않음, 함수는 실행후 returnd 반환, a는 유지\n",
    "print(a)"
   ]
  },
  {
   "cell_type": "code",
   "execution_count": 21,
   "id": "6ad557b5-477b-4370-a8df-2831a80b547f",
   "metadata": {},
   "outputs": [
    {
     "name": "stdout",
     "output_type": "stream",
     "text": [
      "Hello my name is minjung\n"
     ]
    }
   ],
   "source": [
    "a = a.capitalize()   #덮어 씌워야함\n",
    "print(a)"
   ]
  },
  {
   "cell_type": "code",
   "execution_count": 22,
   "id": "f84f7661-4807-4f7d-a24b-e75b841a311e",
   "metadata": {},
   "outputs": [
    {
     "data": {
      "text/plain": [
       "'Hello My Name Is Minjung'"
      ]
     },
     "execution_count": 22,
     "metadata": {},
     "output_type": "execute_result"
    }
   ],
   "source": [
    "a.title()"
   ]
  },
  {
   "cell_type": "code",
   "execution_count": 26,
   "id": "df62582e-a089-47e4-aac0-966377396711",
   "metadata": {},
   "outputs": [
    {
     "data": {
      "text/plain": [
       "'HELLO MY NAME IS MINJUNG'"
      ]
     },
     "execution_count": 26,
     "metadata": {},
     "output_type": "execute_result"
    }
   ],
   "source": [
    "a.upper()"
   ]
  },
  {
   "cell_type": "code",
   "execution_count": 27,
   "id": "606a28cd-63d3-4214-8178-b5d5309ec4d7",
   "metadata": {},
   "outputs": [
    {
     "data": {
      "text/plain": [
       "'hello my name is minjung'"
      ]
     },
     "execution_count": 27,
     "metadata": {},
     "output_type": "execute_result"
    }
   ],
   "source": [
    "a.lower()"
   ]
  },
  {
   "cell_type": "code",
   "execution_count": 29,
   "id": "87001c28-b877-417f-81ee-5b0cc9b79e7f",
   "metadata": {},
   "outputs": [
    {
     "data": {
      "text/plain": [
       "'hi??my??name'"
      ]
     },
     "execution_count": 29,
     "metadata": {},
     "output_type": "execute_result"
    }
   ],
   "source": [
    "my_list = ['hi', 'my', 'name']\n",
    "''.join(my_list)  #''기준으로 나눠서 my_list 들어가있는 요소 합쳐줌\n",
    "'??'.join(my_list)"
   ]
  },
  {
   "cell_type": "code",
   "execution_count": 36,
   "id": "647eada8-c19b-4cac-baec-7528d0dded2e",
   "metadata": {},
   "outputs": [
    {
     "name": "stdout",
     "output_type": "stream",
     "text": [
      "        hello\n",
      "       \n",
      "hello\n",
      "ello\n",
      "ellohihihihihihi\n",
      "hihihihihihello\n"
     ]
    }
   ],
   "source": [
    "#.strip([chars])      #[char] 넣어도 되고 안넣어도 된다\n",
    "\n",
    "my_string = '        hello\\n       '\n",
    "print(my_string)\n",
    "print(my_string.strip())      #필요없는 것들 일괄처리한다\n",
    "\n",
    "my_string2 = 'hihihihihihellohihihihihihi'\n",
    "print(my_string2.strip('hi'))\n",
    "print(my_string2.lstrip('hi'))\n",
    "print(my_string2.rstrip('hi'))"
   ]
  },
  {
   "cell_type": "code",
   "execution_count": 42,
   "id": "02ae6b79-873c-4d24-ad19-9a021e4cb357",
   "metadata": {},
   "outputs": [
    {
     "data": {
      "text/plain": [
       "'w!!!!!!!!!!!!!!!!!w'"
      ]
     },
     "execution_count": 42,
     "metadata": {},
     "output_type": "execute_result"
    }
   ],
   "source": [
    "# .replace(old, new[, count])    #[count] 넣어도 되고 안넣어도 된다\n",
    "\n",
    "a = 'wooooooooooooooooow'\n",
    "a.replace('o', '!')"
   ]
  },
  {
   "cell_type": "code",
   "execution_count": 49,
   "id": "0604e309-1e14-4c51-86c0-d1aa74d120e9",
   "metadata": {},
   "outputs": [
    {
     "name": "stdout",
     "output_type": "stream",
     "text": [
      "1\n",
      "-1\n",
      "1\n"
     ]
    }
   ],
   "source": [
    "# .find(x)\n",
    "a = 'apple'\n",
    "print(a.find('p'))\n",
    "print(a.find('z'))\n",
    "\n",
    "# for i in range(len(a)):\n",
    "#     if 'p' == a[i]:\n",
    "#         print(i)\n",
    "#         break\n",
    "# else:\n",
    "#     print(-1)"
   ]
  },
  {
   "cell_type": "code",
   "execution_count": 51,
   "id": "45fa8af2-b03a-4a47-909d-ed54d4f01478",
   "metadata": {},
   "outputs": [
    {
     "name": "stdout",
     "output_type": "stream",
     "text": [
      "0\n"
     ]
    },
    {
     "ename": "ValueError",
     "evalue": "substring not found",
     "output_type": "error",
     "traceback": [
      "\u001b[0;31m---------------------------------------------------------------------------\u001b[0m",
      "\u001b[0;31mValueError\u001b[0m                                Traceback (most recent call last)",
      "Cell \u001b[0;32mIn[51], line 4\u001b[0m\n\u001b[1;32m      2\u001b[0m a \u001b[38;5;241m=\u001b[39m \u001b[38;5;124m'\u001b[39m\u001b[38;5;124mapple\u001b[39m\u001b[38;5;124m'\u001b[39m\n\u001b[1;32m      3\u001b[0m \u001b[38;5;28mprint\u001b[39m(a\u001b[38;5;241m.\u001b[39mindex(\u001b[38;5;124m'\u001b[39m\u001b[38;5;124ma\u001b[39m\u001b[38;5;124m'\u001b[39m))\n\u001b[0;32m----> 4\u001b[0m \u001b[38;5;28mprint\u001b[39m(\u001b[43ma\u001b[49m\u001b[38;5;241;43m.\u001b[39;49m\u001b[43mindex\u001b[49m\u001b[43m(\u001b[49m\u001b[38;5;124;43m'\u001b[39;49m\u001b[38;5;124;43mz\u001b[39;49m\u001b[38;5;124;43m'\u001b[39;49m\u001b[43m)\u001b[49m)\n",
      "\u001b[0;31mValueError\u001b[0m: substring not found"
     ]
    }
   ],
   "source": [
    "# .index(x)\n",
    "a = 'apple'\n",
    "print(a.index('a'))\n",
    "print(a.index('z'))"
   ]
  },
  {
   "cell_type": "code",
   "execution_count": 55,
   "id": "fa237171-54b8-40aa-9561-eeb106e97e15",
   "metadata": {},
   "outputs": [
    {
     "data": {
      "text/plain": [
       "['my', 'name', 'is']"
      ]
     },
     "execution_count": 55,
     "metadata": {},
     "output_type": "execute_result"
    }
   ],
   "source": [
    "# .split(x)\n",
    "a = 'my name is'\n",
    "a.split()      #쪼개고 리스트로 만들어줌 공백기준\n",
    "\n",
    "a = 'my_name_is'\n",
    "a.split('_')  \n"
   ]
  },
  {
   "cell_type": "code",
   "execution_count": 57,
   "id": "c76822ca-f2b7-4906-90ca-fd7a13e5b2f8",
   "metadata": {},
   "outputs": [
    {
     "data": {
      "text/plain": [
       "10"
      ]
     },
     "execution_count": 57,
     "metadata": {},
     "output_type": "execute_result"
    }
   ],
   "source": [
    "# .count(x)       #문자열 갯수 출력\n",
    "'woooooooooow'.count('o')"
   ]
  },
  {
   "cell_type": "markdown",
   "id": "d8e9c4f4-6e55-4801-9fd7-09e6be38b002",
   "metadata": {},
   "source": [
    "# 리스트 메소드"
   ]
  },
  {
   "cell_type": "code",
   "execution_count": 76,
   "id": "a1a6c081-f86f-4019-9497-0247201c9dfa",
   "metadata": {},
   "outputs": [],
   "source": [
    "numbers = [1, 5, 2, 6, 2, 1]"
   ]
  },
  {
   "cell_type": "code",
   "execution_count": 66,
   "id": "3ac65d20-5e12-4399-919f-098cafca102d",
   "metadata": {},
   "outputs": [
    {
     "name": "stdout",
     "output_type": "stream",
     "text": [
      "[1, 5, 2, 6, 2, 1, 10]\n"
     ]
    }
   ],
   "source": [
    "# .append(x)\n",
    "numbers.append(10)\n",
    "print(numbers)"
   ]
  },
  {
   "cell_type": "code",
   "execution_count": 68,
   "id": "945ebd80-a3c9-4959-9eba-217347f53517",
   "metadata": {},
   "outputs": [
    {
     "name": "stdout",
     "output_type": "stream",
     "text": [
      "[1, 5, 2, 6, 2, 1, 10, 99, 100, 99, 100]\n",
      "[1, 5, 2, 6, 2, 1, 10, 99, 100, 99, 100, 99, 100]\n"
     ]
    }
   ],
   "source": [
    "# .extend(iterable)\n",
    "a = [99, 100]\n",
    "\n",
    "numbers.extend(a)\n",
    "print(numbers)\n",
    "print(numbers + a)\n"
   ]
  },
  {
   "cell_type": "code",
   "execution_count": 69,
   "id": "4753009d-2de7-499a-bef9-f7098d566cdf",
   "metadata": {},
   "outputs": [
    {
     "name": "stdout",
     "output_type": "stream",
     "text": [
      "[1, 5, 2, 3.5, 6, 2, 1, 10, 99, 100, 99, 100]\n"
     ]
    }
   ],
   "source": [
    "# .insert(idx, x)\n",
    "numbers.insert(3, 3.5)\n",
    "print(numbers)"
   ]
  },
  {
   "cell_type": "code",
   "execution_count": 70,
   "id": "015a8b5f-2a49-4b5e-a942-cfcb5b3c458b",
   "metadata": {},
   "outputs": [
    {
     "name": "stdout",
     "output_type": "stream",
     "text": [
      "[1, 5, 2, 6, 2, 1, 10, 99, 100, 99, 100]\n"
     ]
    }
   ],
   "source": [
    "# .remove(x)\n",
    "numbers.remove(3.5)\n",
    "print(numbers)"
   ]
  },
  {
   "cell_type": "code",
   "execution_count": 73,
   "id": "3916d10d-2e8c-49f5-ae2e-6ac92b391c54",
   "metadata": {},
   "outputs": [
    {
     "name": "stdout",
     "output_type": "stream",
     "text": [
      "[5, 2, 6, 2, 1, 10, 99]\n",
      "[2, 6, 2, 1, 10, 99]\n"
     ]
    },
    {
     "data": {
      "text/plain": [
       "99"
      ]
     },
     "execution_count": 73,
     "metadata": {},
     "output_type": "execute_result"
    }
   ],
   "source": [
    "# .pop()    #맨 오른쪽 사라짐\n",
    "numbers.pop()\n",
    "print(numbers)\n",
    "\n",
    "numbers.pop(0)\n",
    "print(numbers)\n",
    "\n",
    "numbers.pop()  #빠져나온 결과값 출력"
   ]
  },
  {
   "cell_type": "code",
   "execution_count": 75,
   "id": "02f5392c-b365-472f-b3c1-d7e505d3a4f2",
   "metadata": {},
   "outputs": [
    {
     "name": "stdout",
     "output_type": "stream",
     "text": [
      "10\n"
     ]
    }
   ],
   "source": [
    "num = numbers.pop()\n",
    "print(num)"
   ]
  },
  {
   "cell_type": "code",
   "execution_count": 93,
   "id": "8c69fe60-ce11-4122-9f64-84269826a5a0",
   "metadata": {},
   "outputs": [],
   "source": [
    "# .sort()   #원본 정렬, 리스트안에서 쓸수있는 메소드"
   ]
  },
  {
   "cell_type": "code",
   "execution_count": 94,
   "id": "2a92b29a-23db-4010-9e16-1ca74ff7b261",
   "metadata": {},
   "outputs": [
    {
     "name": "stdout",
     "output_type": "stream",
     "text": [
      "[1, 6, 2, 1, 3, 2, 7, 10]\n",
      "None\n",
      "[1, 1, 2, 2, 3, 6, 7, 10]\n",
      "[10, 7, 6, 3, 2, 2, 1, 1]\n"
     ]
    }
   ],
   "source": [
    "numbers = [1, 6, 2, 1, 3, 2, 7 ,10]\n",
    "print(numbers)\n",
    "print(numbers.sort())   #결과값 none, 리스트가 바뀜\n",
    "print(numbers)\n",
    "numbers.sort(reverse = True)\n",
    "print(numbers)"
   ]
  },
  {
   "cell_type": "code",
   "execution_count": 95,
   "id": "58f5454e-ebae-4ac0-948b-3f5df4ff5874",
   "metadata": {},
   "outputs": [
    {
     "name": "stdout",
     "output_type": "stream",
     "text": [
      "[1, 6, 2, 1, 3, 2, 7, 10]\n",
      "[1, 1, 2, 2, 3, 6, 7, 10]\n",
      "[1, 6, 2, 1, 3, 2, 7, 10]\n"
     ]
    }
   ],
   "source": [
    "numbers = [1, 6, 2, 1, 3, 2, 7 ,10]\n",
    "print(numbers)\n",
    "print(sorted(numbers))   #원본은 그대로지만 바꾼거 출력, 정렬된값 return, python이 가지고 있는 함수\n",
    "print(numbers)"
   ]
  },
  {
   "cell_type": "code",
   "execution_count": 91,
   "id": "80446dd3-cdb4-4179-be12-a5f4a9557572",
   "metadata": {},
   "outputs": [
    {
     "name": "stdout",
     "output_type": "stream",
     "text": [
      "[1, 6, 2, 1, 3, 2, 7, 10]\n",
      "[10, 7, 2, 3, 1, 2, 6, 1]\n",
      "[1, 6, 2, 1, 3, 2, 7, 10]\n"
     ]
    }
   ],
   "source": [
    "# .reverse()\n",
    "numbers = [1, 6, 2, 1, 3, 2, 7 ,10]\n",
    "print(numbers)\n",
    "\n",
    "numbers.reverse()\n",
    "print(numbers)\n",
    "\n",
    "numbers = numbers[ : : -1]\n",
    "print(numbers)"
   ]
  },
  {
   "cell_type": "markdown",
   "id": "da880427-2b6f-4da4-bf42-6307d395bb78",
   "metadata": {},
   "source": [
    "## list copy"
   ]
  },
  {
   "cell_type": "code",
   "execution_count": 96,
   "id": "5ccab816-f66e-45b6-80c9-c8e2a1a40e85",
   "metadata": {},
   "outputs": [],
   "source": [
    "origin_list = [1, 2, 3]\n",
    "copy_list = origin_list"
   ]
  },
  {
   "cell_type": "code",
   "execution_count": 97,
   "id": "935c91b5-84b0-482b-aec8-a107e4e6d2b7",
   "metadata": {},
   "outputs": [
    {
     "name": "stdout",
     "output_type": "stream",
     "text": [
      "[1, 2, 3]\n",
      "[1, 2, 3]\n"
     ]
    }
   ],
   "source": [
    "print(origin_list)\n",
    "print(copy_list)"
   ]
  },
  {
   "cell_type": "code",
   "execution_count": 98,
   "id": "ebb4f834-d982-4e49-9977-5b34f73693eb",
   "metadata": {},
   "outputs": [],
   "source": [
    "copy_list[0] = 100"
   ]
  },
  {
   "cell_type": "code",
   "execution_count": 99,
   "id": "6e1fe064-1dd8-44cc-bd01-f47c6d388d72",
   "metadata": {},
   "outputs": [
    {
     "name": "stdout",
     "output_type": "stream",
     "text": [
      "[100, 2, 3]\n",
      "[100, 2, 3]\n"
     ]
    }
   ],
   "source": [
    "print(origin_list)\n",
    "print(copy_list)"
   ]
  },
  {
   "cell_type": "code",
   "execution_count": 101,
   "id": "87a8ec03-fdc1-469f-9e2f-f37b62e400e8",
   "metadata": {},
   "outputs": [
    {
     "name": "stdout",
     "output_type": "stream",
     "text": [
      "[1, 2, 3]\n",
      "[100, 2, 3]\n"
     ]
    }
   ],
   "source": [
    "a = [1, 2, 3]\n",
    "b = list(a)    #b=a[:]\n",
    "\n",
    "b[0] = 100\n",
    "\n",
    "print(a)\n",
    "print(b)"
   ]
  },
  {
   "cell_type": "code",
   "execution_count": 103,
   "id": "cc2410b3-2d5e-4535-89f2-133dea0c9919",
   "metadata": {},
   "outputs": [
    {
     "name": "stdout",
     "output_type": "stream",
     "text": [
      "[1, 2, [99, 1000]]\n",
      "[1, 2, [99, 1000]]\n"
     ]
    }
   ],
   "source": [
    "a = [  1,   2,  [99, 100]  ]\n",
    "b = a[:]\n",
    "# b = list(a)\n",
    "\n",
    "b[2][1] = 1000\n",
    "print(a)\n",
    "print(b)\n"
   ]
  },
  {
   "cell_type": "code",
   "execution_count": 105,
   "id": "e1feaa2d-c8dd-49db-907f-f708aaeca4a7",
   "metadata": {},
   "outputs": [
    {
     "name": "stdout",
     "output_type": "stream",
     "text": [
      "[1, 2, [99, 100]]\n",
      "[1, 2, [99, 1000]]\n"
     ]
    }
   ],
   "source": [
    "import copy\n",
    "a = [  1,   2,  [99, 100]  ]\n",
    "b = copy.deepcopy(a)    #리스트 안에 리스트가 있을때 복제할때, 독립적으로 사용할때\n",
    "\n",
    "b[2][1] = 1000\n",
    "\n",
    "print(a)\n",
    "print(b)"
   ]
  },
  {
   "cell_type": "markdown",
   "id": "7606d1c4-a487-45e6-9379-5b8fdd23bdd6",
   "metadata": {},
   "source": [
    "## list comprehension"
   ]
  },
  {
   "cell_type": "code",
   "execution_count": 106,
   "id": "ce5b7f4e-660f-4ced-908b-eddc54f83335",
   "metadata": {},
   "outputs": [
    {
     "name": "stdout",
     "output_type": "stream",
     "text": [
      "[1, 2, 3, 4, 5, 6, 7, 8, 9, 10]\n"
     ]
    }
   ],
   "source": [
    "numbers = list(range(1, 11))\n",
    "print(numbers)"
   ]
  },
  {
   "cell_type": "code",
   "execution_count": 107,
   "id": "40be0df2-6dc3-44d6-a686-866b930491fa",
   "metadata": {},
   "outputs": [
    {
     "name": "stdout",
     "output_type": "stream",
     "text": [
      "[1, 8, 27, 64, 125, 216, 343, 512, 729, 1000]\n"
     ]
    }
   ],
   "source": [
    "# [1, 8, 27....1000] 세제곱 만들기\n",
    "result = []\n",
    "\n",
    "for number in numbers:\n",
    "    result.append(number ** 3)\n",
    "print(result)"
   ]
  },
  {
   "cell_type": "code",
   "execution_count": 108,
   "id": "cde65c42-fa3c-4049-bb1e-4a7a87818661",
   "metadata": {},
   "outputs": [
    {
     "name": "stdout",
     "output_type": "stream",
     "text": [
      "[1, 8, 27, 64, 125, 216, 343, 512, 729, 1000]\n"
     ]
    }
   ],
   "source": [
    "result2 = [ number ** 3 for number in numbers ]\n",
    "print(result2)"
   ]
  },
  {
   "cell_type": "code",
   "execution_count": 111,
   "id": "752ba22c-bf3a-4a2f-a695-e9e17b6b2816",
   "metadata": {},
   "outputs": [
    {
     "name": "stdout",
     "output_type": "stream",
     "text": [
      "[2, 4, 6, 8, 10]\n"
     ]
    }
   ],
   "source": [
    "# 짝수만 고르기\n",
    "even_list = []\n",
    "for number in numbers:\n",
    "    if number % 2 == 0:\n",
    "        even_list.append(number)\n",
    "\n",
    "print(even_list)"
   ]
  },
  {
   "cell_type": "code",
   "execution_count": null,
   "id": "e20b75b8-647a-49c2-8e28-16b54a521bc0",
   "metadata": {},
   "outputs": [],
   "source": [
    "# 짝수만 고르기(list comprehension)\n",
    "even_list2 = [number for number in numbers if number % 2 == 0]"
   ]
  },
  {
   "cell_type": "code",
   "execution_count": null,
   "id": "d7dd34c0-8a08-4675-975c-807dbb1d543b",
   "metadata": {},
   "outputs": [],
   "source": []
  },
  {
   "cell_type": "code",
   "execution_count": 130,
   "id": "b5d8df6b-afa1-40df-a781-46b47677ec09",
   "metadata": {},
   "outputs": [],
   "source": [
    "words = 'my name is hong'\n",
    "vowels = 'aeiou'\n",
    "\n",
    "# my nm s hng"
   ]
  },
  {
   "cell_type": "code",
   "execution_count": 133,
   "id": "1da8897e-653e-40ab-9b82-41488b593ea0",
   "metadata": {},
   "outputs": [
    {
     "name": "stdout",
     "output_type": "stream",
     "text": [
      "['m', 'y', ' ', 'n', 'm', ' ', 's', ' ', 'h', 'n', 'g']\n",
      "my nm s hng\n"
     ]
    }
   ],
   "source": [
    "# for문\n",
    "# words = 'my name is hong'\n",
    "# w = list(words)\n",
    "# vowels = 'aeiou'\n",
    "# vowel_list = []\n",
    "\n",
    "# for vowel in w:\n",
    "#     if vowel != vowels:\n",
    "#         vowel_list.append(vowel)\n",
    "\n",
    "# print(vowel_list)\n",
    "\n",
    "result = []\n",
    "for char in words:\n",
    "    if char not in vowels:\n",
    "        result.append(char)\n",
    "\n",
    "print(result)\n",
    "print(''.join(result))"
   ]
  },
  {
   "cell_type": "code",
   "execution_count": 135,
   "id": "717de040-e6ca-478f-94c8-a985d62f5d29",
   "metadata": {},
   "outputs": [
    {
     "name": "stdout",
     "output_type": "stream",
     "text": [
      "['m', 'y', ' ', 'n', 'm', ' ', 's', ' ', 'h', 'n', 'g']\n",
      "my nm s hng\n"
     ]
    }
   ],
   "source": [
    "# list comprehension\n",
    "result = [char for char in words if char not in vowels ]\n",
    "print(result)\n",
    "print(''.join(result))"
   ]
  },
  {
   "cell_type": "code",
   "execution_count": 139,
   "id": "a59cacd2-b686-4009-a495-f0a1cdb8edc6",
   "metadata": {},
   "outputs": [
    {
     "name": "stdout",
     "output_type": "stream",
     "text": [
      "my nm s hng\n"
     ]
    }
   ],
   "source": [
    "words = 'my name is hong'\n",
    "vowels = 'aeiou'\n",
    "\n",
    "\n",
    "for vowel in vowels:\n",
    "    words = words.replace(vowel, '')\n",
    "\n",
    "print(words)\n"
   ]
  },
  {
   "cell_type": "code",
   "execution_count": 141,
   "id": "1cbad9a9-b41a-4473-880d-0a71d6a8377e",
   "metadata": {},
   "outputs": [
    {
     "name": "stdout",
     "output_type": "stream",
     "text": [
      "['m', 'y', ' ', 'n', 'm', 'e', ' ', 'i', 's', ' ', 'h', 'o', 'n', 'g']\n",
      "my nme is hong\n"
     ]
    }
   ],
   "source": [
    "words = 'my name is hong'\n",
    "vowels = 'aeiou'\n",
    "\n",
    "result = []\n",
    "for char in words:\n",
    "    for vowel in vowels:\n",
    "        if char != vowel: \n",
    "            result.append(char)\n",
    "        break\n",
    "\n",
    "print(result)\n",
    "print(''.join(result))"
   ]
  },
  {
   "cell_type": "code",
   "execution_count": 143,
   "id": "643e0d02-21bd-46f9-a277-eab9e1ebcb5c",
   "metadata": {},
   "outputs": [
    {
     "name": "stdout",
     "output_type": "stream",
     "text": [
      "['M', 'N', 'H']\n",
      "MNH\n"
     ]
    }
   ],
   "source": [
    "words = 'My Name is Hong'\n",
    "vowels = 'aeiouAEIOU'\n",
    "\n",
    "result = [char for char in words if char not in vowels if char.isupper() ]\n",
    "print(result)\n",
    "print(''.join(result))\n"
   ]
  },
  {
   "cell_type": "code",
   "execution_count": 144,
   "id": "e57e6615-4118-4147-8a33-93970037e7a8",
   "metadata": {},
   "outputs": [
    {
     "name": "stdout",
     "output_type": "stream",
     "text": [
      "My Nm s Hng\n"
     ]
    }
   ],
   "source": [
    "result2 = ''.join([char for char in words if char not in vowels])\n",
    "print(result2)"
   ]
  },
  {
   "cell_type": "markdown",
   "id": "58ef7194-d67d-4443-9cd7-ea87d0c94fba",
   "metadata": {},
   "source": [
    "# 딕셔너리 메소드"
   ]
  },
  {
   "cell_type": "code",
   "execution_count": 171,
   "id": "61c03314-d02a-474f-bb0e-1e91971f589f",
   "metadata": {},
   "outputs": [],
   "source": [
    "info = {\n",
    "    'name' : 'minjung',\n",
    "    'location' : 'seoul'\n",
    "}"
   ]
  },
  {
   "cell_type": "code",
   "execution_count": 172,
   "id": "6beeae6d-abca-408e-9a7c-c564b2def966",
   "metadata": {},
   "outputs": [
    {
     "name": "stdout",
     "output_type": "stream",
     "text": [
      "{'name': 'kim', 'location': 'seoul'}\n"
     ]
    }
   ],
   "source": [
    "info['name'] = 'kim'\n",
    "print(info)"
   ]
  },
  {
   "cell_type": "code",
   "execution_count": 173,
   "id": "1517429c-0ae1-4857-baaa-b6135d214644",
   "metadata": {},
   "outputs": [
    {
     "name": "stdout",
     "output_type": "stream",
     "text": [
      "{'name': 'kim', 'location': 'seoul'}\n",
      "seoul\n",
      "{'name': 'kim'}\n",
      "hello\n"
     ]
    }
   ],
   "source": [
    "# .pop(key[, default])\n",
    "print(info)\n",
    "print(info.pop('location'))\n",
    "\n",
    "print(info)\n",
    "print(info.pop('location','hello'))\n"
   ]
  },
  {
   "cell_type": "code",
   "execution_count": 174,
   "id": "20522c7d-9c06-41f6-89d5-0694c2b31b39",
   "metadata": {},
   "outputs": [
    {
     "name": "stdout",
     "output_type": "stream",
     "text": [
      "{'name': 'park'}\n"
     ]
    }
   ],
   "source": [
    "# .update()\n",
    "info.update(name = 'park')\n",
    "print(info)"
   ]
  },
  {
   "cell_type": "code",
   "execution_count": 177,
   "id": "a68cfa2b-b0fd-4e41-b5fd-ff27058eec7b",
   "metadata": {},
   "outputs": [
    {
     "name": "stdout",
     "output_type": "stream",
     "text": [
      "park\n",
      "None\n",
      "해당키가 없습니다\n"
     ]
    }
   ],
   "source": [
    "# .get(key[, default])\n",
    "print(info.get('name'))\n",
    "print(info.get('phone'))\n",
    "print(info.get('phone','해당키가 없습니다'))"
   ]
  },
  {
   "cell_type": "markdown",
   "id": "1f959925-40ee-4524-8f5b-08f6156f7f16",
   "metadata": {},
   "source": [
    "## dict comprehension"
   ]
  },
  {
   "cell_type": "code",
   "execution_count": 178,
   "id": "75acb918-ffe4-4923-96f0-6c3f6987eb8a",
   "metadata": {},
   "outputs": [
    {
     "name": "stdout",
     "output_type": "stream",
     "text": [
      "{1: 1, 2: 8, 3: 27, 4: 64, 5: 125, 6: 216, 7: 343, 8: 512, 9: 729, 10: 1000}\n"
     ]
    }
   ],
   "source": [
    "# for\n",
    "# {1:1, 2: 8, 3:9...}\n",
    "result = {}\n",
    "numbers = range(1, 11)\n",
    "for number in numbers:\n",
    "    result[number] = number ** 3\n",
    "\n",
    "print(result)"
   ]
  },
  {
   "cell_type": "code",
   "execution_count": 179,
   "id": "e9e1e051-f147-4f1f-8bf0-095b5ac1ace1",
   "metadata": {},
   "outputs": [
    {
     "name": "stdout",
     "output_type": "stream",
     "text": [
      "{1: 1, 2: 8, 3: 27, 4: 64, 5: 125, 6: 216, 7: 343, 8: 512, 9: 729, 10: 1000}\n"
     ]
    }
   ],
   "source": [
    "# comp\n",
    "result2 = {number : number **3 for number in range(1, 11)} \n",
    "# range () = numbers로 넣어도 무방]\n",
    "print(result2)"
   ]
  },
  {
   "cell_type": "code",
   "execution_count": 196,
   "id": "2bb26ddb-68ac-4d8e-8ad4-0c5a01109861",
   "metadata": {},
   "outputs": [],
   "source": [
    "\n",
    "dust = {\n",
    "    '서울' : 100,\n",
    "    '대구' : 30,\n",
    "    '부산' : 50,\n",
    "    '광주' : 80,\n",
    "    '제주' : 20,\n",
    "}\n",
    "\n",
    "# result = {\n",
    "#     '서울': 100,\n",
    "#     '부산' : 50,\n",
    "#     '광주' : 80,\n",
    "# }"
   ]
  },
  {
   "cell_type": "code",
   "execution_count": 199,
   "id": "6362380e-ad6c-4193-98dc-f3c2b3f8d1ef",
   "metadata": {},
   "outputs": [
    {
     "name": "stdout",
     "output_type": "stream",
     "text": [
      "{'서울': 100, '부산': 50, '광주': 80}\n"
     ]
    }
   ],
   "source": [
    "# result = {}\n",
    "# for d in dust:\n",
    "#     if d == 50:\n",
    "#         result[d]\n",
    "# for문\n",
    "result = {}\n",
    "for k, v in dust.items():\n",
    "    if v >= 50:\n",
    "        result[k] = v\n",
    "print(result2)\n"
   ]
  },
  {
   "cell_type": "code",
   "execution_count": 203,
   "id": "de5fad96-835a-402b-a267-89385dd48320",
   "metadata": {},
   "outputs": [
    {
     "name": "stdout",
     "output_type": "stream",
     "text": [
      "{'서울': 100, '부산': 50, '광주': 80}\n"
     ]
    }
   ],
   "source": [
    "# comp\n",
    "result2 = {k:v for k,v in dust.items() if v >= 50}\n",
    "print(result2)\n",
    "result2 = {k:'나쁨' for k,v in dust.items() if v >= 50}\n"
   ]
  },
  {
   "cell_type": "code",
   "execution_count": 208,
   "id": "10c432c5-008e-4447-a738-1a7b7e9d56b0",
   "metadata": {},
   "outputs": [
    {
     "name": "stdout",
     "output_type": "stream",
     "text": [
      "{'서울': '나쁨', '부산': '나쁨', '광주': '나쁨'}\n"
     ]
    }
   ],
   "source": [
    "result = {}\n",
    "for i in dust:         # dust = dust.keys()\n",
    "    if dust[i] >= 50:\n",
    "        result[i] = dust[i]\n",
    "print(result2)"
   ]
  },
  {
   "cell_type": "markdown",
   "id": "8523e20f-6464-4960-9b42-4875cc48eedd",
   "metadata": {},
   "source": [
    "## 세트 메소드\n"
   ]
  },
  {
   "cell_type": "code",
   "execution_count": 207,
   "id": "e0f995bf-05eb-4a6a-a48d-f5cd4d8a750b",
   "metadata": {},
   "outputs": [],
   "source": [
    "fruits = {'apple', 'banana', 'melon'}   #하나의 데이터가 중복해서 출력될수 없다"
   ]
  },
  {
   "cell_type": "code",
   "execution_count": 206,
   "id": "332d2e45-2dd6-4eb2-a1ea-9657e781c80d",
   "metadata": {},
   "outputs": [
    {
     "name": "stdout",
     "output_type": "stream",
     "text": [
      "{'watermelon', 'banana', 'apple', 'melon'}\n",
      "{'watermelon', 'banana', 'apple', 'melon'}\n"
     ]
    }
   ],
   "source": [
    "# .add(x)   하나의 데이터 추가\n",
    "fruits.add('watermelon')\n",
    "print(fruits)\n",
    "fruits.add('watermelon')\n",
    "print(fruits)"
   ]
  },
  {
   "cell_type": "code",
   "execution_count": 211,
   "id": "448c2a3b-38f2-4dbc-a6fd-8d4e4cad6b8a",
   "metadata": {},
   "outputs": [
    {
     "name": "stdout",
     "output_type": "stream",
     "text": [
      "{'banana', 'melon', 'r', 'g', 'apple', 'e', 'p', 'a'}\n",
      "{'banana', 'melon', 'grape', 'r', 'g', 'apple', 'orange', 'e', 'p', 'a'}\n"
     ]
    }
   ],
   "source": [
    "# .update()   여러개의 데이터 추가\n",
    "fruits.update('grape')\n",
    "print(fruits)\n",
    "fruits.update({'grape', 'orange'})\n",
    "print(fruits)"
   ]
  },
  {
   "cell_type": "code",
   "execution_count": 213,
   "id": "9194293d-ffc9-41f6-8902-1aed19c7afc1",
   "metadata": {},
   "outputs": [
    {
     "name": "stdout",
     "output_type": "stream",
     "text": [
      "{'melon', 'grape', 'r', 'g', 'apple', 'orange', 'e', 'p', 'a'}\n"
     ]
    }
   ],
   "source": [
    "# .remove()\n",
    "fruits.remove('banana')\n",
    "print(fruits)"
   ]
  },
  {
   "cell_type": "code",
   "execution_count": 216,
   "id": "abdc85f8-a9a1-4f10-bcac-fdbd630c525b",
   "metadata": {},
   "outputs": [
    {
     "name": "stdout",
     "output_type": "stream",
     "text": [
      "{'g', 'apple', 'orange', 'e', 'p', 'a'}\n"
     ]
    }
   ],
   "source": [
    "# .pop()     내부적으로 설정된 순서에 따라 하나 빠짐\n",
    "fruits.pop()\n",
    "print(fruits)"
   ]
  },
  {
   "cell_type": "markdown",
   "id": "11fa1ac2-0add-4b6a-a285-3a6ce049d18f",
   "metadata": {},
   "source": [
    "### map, filter, zip"
   ]
  },
  {
   "cell_type": "markdown",
   "id": "24302f77-2c6c-40ba-a5a6-e28cc110f542",
   "metadata": {},
   "source": [
    "- map(function, iteable)"
   ]
  },
  {
   "cell_type": "code",
   "execution_count": 223,
   "id": "93c99915-90b8-4974-8c63-131be963fb5b",
   "metadata": {},
   "outputs": [
    {
     "name": "stdout",
     "output_type": "stream",
     "text": [
      "<map object at 0x107e4c4f0>\n",
      "['1', '2', '3']\n"
     ]
    }
   ],
   "source": [
    "a = [1, 2, 3]\n",
    "number_str = map(str, a)     #첫번째 요소는 함수, 두번째 시퀀스 객체/ a자동반복, 함수넣어서 반복\n",
    "print(number_str)\n",
    "print(list(number_str))"
   ]
  },
  {
   "cell_type": "code",
   "execution_count": 224,
   "id": "b69e3e0a-191e-468a-86b9-accbf2f207f0",
   "metadata": {},
   "outputs": [
    {
     "name": "stdout",
     "output_type": "stream",
     "text": [
      "[1, 8, 27]\n"
     ]
    }
   ],
   "source": [
    "result = []\n",
    "for i in a:\n",
    "    result.append(i ** 3)\n",
    "\n",
    "print(result)"
   ]
  },
  {
   "cell_type": "code",
   "execution_count": 225,
   "id": "fa8c97c0-69ba-4992-a844-4089abcbb7c3",
   "metadata": {},
   "outputs": [
    {
     "name": "stdout",
     "output_type": "stream",
     "text": [
      "125\n",
      "1000\n"
     ]
    }
   ],
   "source": [
    "def cube(x):\n",
    "    return x ** 3\n",
    "\n",
    "print(cube(5))\n",
    "print(cube(10))"
   ]
  },
  {
   "cell_type": "code",
   "execution_count": 226,
   "id": "07425c18-d4f7-4f95-81d3-2e70691d9b85",
   "metadata": {},
   "outputs": [
    {
     "name": "stdout",
     "output_type": "stream",
     "text": [
      "[1, 8, 27]\n"
     ]
    }
   ],
   "source": [
    "result2 = map(cube, a)\n",
    "print(list(result2))"
   ]
  },
  {
   "cell_type": "code",
   "execution_count": 228,
   "id": "6f22c95a-ca0b-4b91-9684-53e9f15d8ac7",
   "metadata": {},
   "outputs": [
    {
     "name": "stdout",
     "output_type": "stream",
     "text": [
      "[1, 3, 5, 7, 9]\n"
     ]
    }
   ],
   "source": [
    "a = '1 3 5 7 9'\n",
    "# numbers = [1, 3, 5, 7, 9]\n",
    "numbers = list(map(int, a.split()))\n",
    "print(numbers)"
   ]
  },
  {
   "cell_type": "markdown",
   "id": "105a4c6f-45cd-4b89-ab07-902b28ac8763",
   "metadata": {},
   "source": [
    "- filter(function, iterable)\n",
    "- filter에 들어가는 fuction은 true false를 반환해야 합니다."
   ]
  },
  {
   "cell_type": "code",
   "execution_count": 235,
   "id": "05a0f9bf-3d33-4d6e-81e4-0a489e678a24",
   "metadata": {},
   "outputs": [
    {
     "name": "stdout",
     "output_type": "stream",
     "text": [
      "True\n",
      "False\n"
     ]
    }
   ],
   "source": [
    "def is_odd(x):\n",
    "    # if x % 2 == 1:\n",
    "    #     return True\n",
    "    # else:\n",
    "    #     return False\n",
    "    return bool(x % 2)\n",
    "\n",
    "print(is_odd(5))\n",
    "print(is_odd(10))"
   ]
  },
  {
   "cell_type": "code",
   "execution_count": 232,
   "id": "7bc0e777-a53e-4505-a47f-787643c532ff",
   "metadata": {},
   "outputs": [],
   "source": [
    "numbers = [1, 2, 3, 4, 5]"
   ]
  },
  {
   "cell_type": "code",
   "execution_count": 233,
   "id": "8f994d77-9e8b-4781-8e3a-43225930fbd7",
   "metadata": {},
   "outputs": [
    {
     "name": "stdout",
     "output_type": "stream",
     "text": [
      "[1, 3, 5]\n"
     ]
    }
   ],
   "source": [
    "# for\n",
    "result = []\n",
    "for number in numbers:\n",
    "    if is_odd(number):      #number % 2 == 1:     \n",
    "        result.append(number)\n",
    "\n",
    "print(result)"
   ]
  },
  {
   "cell_type": "code",
   "execution_count": 234,
   "id": "7a4054ef-273b-46a3-a4d9-546e3c2a25be",
   "metadata": {},
   "outputs": [
    {
     "name": "stdout",
     "output_type": "stream",
     "text": [
      "[1, 3, 5]\n"
     ]
    }
   ],
   "source": [
    "result2 = filter(is_odd, numbers)\n",
    "print(list(result2))"
   ]
  },
  {
   "cell_type": "markdown",
   "id": "9dbf721e-3420-442a-901c-87b3a13b5ea7",
   "metadata": {},
   "source": [
    "- zip"
   ]
  },
  {
   "cell_type": "code",
   "execution_count": 241,
   "id": "5554976c-9a62-4c16-945e-5d4298f7da76",
   "metadata": {},
   "outputs": [],
   "source": [
    "a = [1, 2, 3, 4]\n",
    "b = [100, 200, 300, 400 , 500]"
   ]
  },
  {
   "cell_type": "code",
   "execution_count": 242,
   "id": "89d344ef-3535-4fef-b87b-dc16c0c1efa1",
   "metadata": {},
   "outputs": [
    {
     "name": "stdout",
     "output_type": "stream",
     "text": [
      "<zip object at 0x107982840>\n",
      "[(1, 100), (2, 200), (3, 300), (4, 400)]\n"
     ]
    }
   ],
   "source": [
    "result = zip(a, b)\n",
    "print(result)\n",
    "print(list(result))"
   ]
  },
  {
   "cell_type": "code",
   "execution_count": null,
   "id": "bea08cbf-18cd-4729-857e-5beb9ae8311e",
   "metadata": {},
   "outputs": [],
   "source": []
  }
 ],
 "metadata": {
  "kernelspec": {
   "display_name": "Python 3 (ipykernel)",
   "language": "python",
   "name": "python3"
  },
  "language_info": {
   "codemirror_mode": {
    "name": "ipython",
    "version": 3
   },
   "file_extension": ".py",
   "mimetype": "text/x-python",
   "name": "python",
   "nbconvert_exporter": "python",
   "pygments_lexer": "ipython3",
   "version": "3.11.5"
  }
 },
 "nbformat": 4,
 "nbformat_minor": 5
}
