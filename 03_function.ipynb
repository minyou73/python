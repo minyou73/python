{
 "cells": [
  {
   "cell_type": "markdown",
   "id": "b647d826-4298-4f39-ba66-5cb33aa195fe",
   "metadata": {},
   "source": [
    "# 함수(function)"
   ]
  },
  {
   "cell_type": "code",
   "execution_count": 4,
   "id": "3d8c4960-e399-488b-a8d6-390337dad5ec",
   "metadata": {},
   "outputs": [
    {
     "name": "stdout",
     "output_type": "stream",
     "text": [
      "직사각형의 면적은 200, 둘레는 60입니다.\n"
     ]
    }
   ],
   "source": [
    "height = 10\n",
    "width = 20\n",
    "\n",
    "height2 = 50\n",
    "width2 = 100\n",
    "\n",
    "area = height * width\n",
    "perimeter = (height + width) * 2\n",
    "print(f'직사각형의 면적은 {area}, 둘레는 {perimeter}입니다.')\n",
    "\n",
    "area2 = height2 * width2"
   ]
  },
  {
   "cell_type": "markdown",
   "id": "0ce49900-5d5d-4c98-962c-269c8ac9903a",
   "metadata": {},
   "source": [
    "## 함수의 선언과 호출\n",
    "\n",
    "- 함수의 선언\n",
    "```python\n",
    "def  func_name(parameter1, parameter2):\n",
    "    code1\n",
    "    code2\n",
    "    ...\n",
    "    return value\n",
    "```\n",
    "\n",
    "- 함수의 호출(실행)\n",
    "```python\n",
    "func_name(parameter1, parameter2)\n",
    "\n",
    "```"
   ]
  },
  {
   "cell_type": "code",
   "execution_count": 6,
   "id": "8d78715a-bf60-46d2-a38a-a212ffebcecd",
   "metadata": {},
   "outputs": [],
   "source": [
    "def rectangle(heigt, width):\n",
    "    area = height * width\n",
    "    perimeter = (height + width) * 2\n",
    "    print(f'직사각형의 면적은 {area}이고 둘레는{perimeter}입니다.')\n",
    "    "
   ]
  },
  {
   "cell_type": "code",
   "execution_count": 7,
   "id": "2527427c-e2b9-4582-a3a1-9dede527cadb",
   "metadata": {},
   "outputs": [
    {
     "name": "stdout",
     "output_type": "stream",
     "text": [
      "직사각형의 면적은 500이고 둘레는120입니다.\n",
      "직사각형의 면적은 200이고 둘레는60입니다.\n"
     ]
    }
   ],
   "source": [
    "rectangle(100, 50)\n",
    "rectangle(10, 20)"
   ]
  },
  {
   "cell_type": "code",
   "execution_count": 8,
   "id": "ff4182fc-efd8-44ba-bd59-eeb76fa3c3e1",
   "metadata": {},
   "outputs": [
    {
     "data": {
      "text/plain": [
       "['ArithmeticError',\n",
       " 'AssertionError',\n",
       " 'AttributeError',\n",
       " 'BaseException',\n",
       " 'BaseExceptionGroup',\n",
       " 'BlockingIOError',\n",
       " 'BrokenPipeError',\n",
       " 'BufferError',\n",
       " 'BytesWarning',\n",
       " 'ChildProcessError',\n",
       " 'ConnectionAbortedError',\n",
       " 'ConnectionError',\n",
       " 'ConnectionRefusedError',\n",
       " 'ConnectionResetError',\n",
       " 'DeprecationWarning',\n",
       " 'EOFError',\n",
       " 'Ellipsis',\n",
       " 'EncodingWarning',\n",
       " 'EnvironmentError',\n",
       " 'Exception',\n",
       " 'ExceptionGroup',\n",
       " 'False',\n",
       " 'FileExistsError',\n",
       " 'FileNotFoundError',\n",
       " 'FloatingPointError',\n",
       " 'FutureWarning',\n",
       " 'GeneratorExit',\n",
       " 'IOError',\n",
       " 'ImportError',\n",
       " 'ImportWarning',\n",
       " 'IndentationError',\n",
       " 'IndexError',\n",
       " 'InterruptedError',\n",
       " 'IsADirectoryError',\n",
       " 'KeyError',\n",
       " 'KeyboardInterrupt',\n",
       " 'LookupError',\n",
       " 'MemoryError',\n",
       " 'ModuleNotFoundError',\n",
       " 'NameError',\n",
       " 'None',\n",
       " 'NotADirectoryError',\n",
       " 'NotImplemented',\n",
       " 'NotImplementedError',\n",
       " 'OSError',\n",
       " 'OverflowError',\n",
       " 'PendingDeprecationWarning',\n",
       " 'PermissionError',\n",
       " 'ProcessLookupError',\n",
       " 'RecursionError',\n",
       " 'ReferenceError',\n",
       " 'ResourceWarning',\n",
       " 'RuntimeError',\n",
       " 'RuntimeWarning',\n",
       " 'StopAsyncIteration',\n",
       " 'StopIteration',\n",
       " 'SyntaxError',\n",
       " 'SyntaxWarning',\n",
       " 'SystemError',\n",
       " 'SystemExit',\n",
       " 'TabError',\n",
       " 'TimeoutError',\n",
       " 'True',\n",
       " 'TypeError',\n",
       " 'UnboundLocalError',\n",
       " 'UnicodeDecodeError',\n",
       " 'UnicodeEncodeError',\n",
       " 'UnicodeError',\n",
       " 'UnicodeTranslateError',\n",
       " 'UnicodeWarning',\n",
       " 'UserWarning',\n",
       " 'ValueError',\n",
       " 'Warning',\n",
       " 'ZeroDivisionError',\n",
       " '__IPYTHON__',\n",
       " '__build_class__',\n",
       " '__debug__',\n",
       " '__doc__',\n",
       " '__import__',\n",
       " '__loader__',\n",
       " '__name__',\n",
       " '__package__',\n",
       " '__spec__',\n",
       " 'abs',\n",
       " 'aiter',\n",
       " 'all',\n",
       " 'anext',\n",
       " 'any',\n",
       " 'ascii',\n",
       " 'bin',\n",
       " 'bool',\n",
       " 'breakpoint',\n",
       " 'bytearray',\n",
       " 'bytes',\n",
       " 'callable',\n",
       " 'chr',\n",
       " 'classmethod',\n",
       " 'compile',\n",
       " 'complex',\n",
       " 'copyright',\n",
       " 'credits',\n",
       " 'delattr',\n",
       " 'dict',\n",
       " 'dir',\n",
       " 'display',\n",
       " 'divmod',\n",
       " 'enumerate',\n",
       " 'eval',\n",
       " 'exec',\n",
       " 'execfile',\n",
       " 'filter',\n",
       " 'float',\n",
       " 'format',\n",
       " 'frozenset',\n",
       " 'get_ipython',\n",
       " 'getattr',\n",
       " 'globals',\n",
       " 'hasattr',\n",
       " 'hash',\n",
       " 'help',\n",
       " 'hex',\n",
       " 'id',\n",
       " 'input',\n",
       " 'int',\n",
       " 'isinstance',\n",
       " 'issubclass',\n",
       " 'iter',\n",
       " 'len',\n",
       " 'license',\n",
       " 'list',\n",
       " 'locals',\n",
       " 'map',\n",
       " 'max',\n",
       " 'memoryview',\n",
       " 'min',\n",
       " 'next',\n",
       " 'object',\n",
       " 'oct',\n",
       " 'open',\n",
       " 'ord',\n",
       " 'pow',\n",
       " 'print',\n",
       " 'property',\n",
       " 'range',\n",
       " 'repr',\n",
       " 'reversed',\n",
       " 'round',\n",
       " 'runfile',\n",
       " 'set',\n",
       " 'setattr',\n",
       " 'slice',\n",
       " 'sorted',\n",
       " 'staticmethod',\n",
       " 'str',\n",
       " 'sum',\n",
       " 'super',\n",
       " 'tuple',\n",
       " 'type',\n",
       " 'vars',\n",
       " 'zip']"
      ]
     },
     "execution_count": 8,
     "metadata": {},
     "output_type": "execute_result"
    }
   ],
   "source": [
    "dir(__builtins__)"
   ]
  },
  {
   "cell_type": "code",
   "execution_count": null,
   "id": "d608e3c0-f602-4aad-b02f-b20bba0920bb",
   "metadata": {},
   "outputs": [],
   "source": [
    "max(1,3,6,7)"
   ]
  },
  {
   "cell_type": "code",
   "execution_count": 9,
   "id": "9d9dd7f4-2e5e-4672-a0b4-f3a48e915d9e",
   "metadata": {},
   "outputs": [],
   "source": [
    "# 두개의 정수를 받아서 큰 수를 출력\n",
    "\n",
    "def my_max(num1, num2):  \n",
    "    if num1 > num2:\n",
    "        print(f'{num1}이 더 큽니다')\n",
    "    elif num1 < num2:\n",
    "        print(f'{num2}이 더 큽니다')\n",
    "    else:\n",
    "        print(f'{num1}와 {num2} 같습니다')\n",
    "\n",
    "# return none"
   ]
  },
  {
   "cell_type": "code",
   "execution_count": 10,
   "id": "9c93bc55-59fc-46bc-aaa8-fa0196bf74e1",
   "metadata": {},
   "outputs": [
    {
     "name": "stdout",
     "output_type": "stream",
     "text": [
      "5이 더 큽니다\n",
      "4와 4 같습니다\n",
      "None\n"
     ]
    }
   ],
   "source": [
    "my_max(2,5)  #num1=2, num2=5\n",
    "a = my_max(4,4)\n",
    "print(a)"
   ]
  },
  {
   "cell_type": "markdown",
   "id": "e5cf15c5-db21-457b-a204-6e12aed963b2",
   "metadata": {},
   "source": [
    "## 함수의 return\n",
    "- 함수가 return을 만나면 해당 갑슬 반환하고 함수를 종료\n",
    "- 만약 return이 없다면 none을 자동으로 반환\n",
    "- return은 오직 하나의 객체만 반환"
   ]
  },
  {
   "cell_type": "code",
   "execution_count": 12,
   "id": "07e517c1-d942-4e2a-8a5f-912077a16b71",
   "metadata": {},
   "outputs": [],
   "source": [
    "def my_max2(num1, num2):  \n",
    "   # return 'hello'\n",
    "    \n",
    "    if num1 > num2:\n",
    "        return num1\n",
    "    elif num1 < num2:\n",
    "        return num2\n",
    "    else:\n",
    "        return num1"
   ]
  },
  {
   "cell_type": "code",
   "execution_count": 13,
   "id": "b7792680-cf69-41c9-95ba-56391b74c855",
   "metadata": {},
   "outputs": [
    {
     "name": "stdout",
     "output_type": "stream",
     "text": [
      "2\n"
     ]
    }
   ],
   "source": [
    "a = my_max2(1,2)  # 결과가 output으로 만들어졌다\n",
    "print(a)"
   ]
  },
  {
   "cell_type": "code",
   "execution_count": 14,
   "id": "d078ac9d-d754-438f-a172-a1ffa14989d0",
   "metadata": {},
   "outputs": [],
   "source": [
    "def my_list_max(list1, list2):\n",
    "    if sum(list1) > sum(list2):\n",
    "        return list1\n",
    "    else:\n",
    "        return list2"
   ]
  },
  {
   "cell_type": "code",
   "execution_count": 15,
   "id": "fa2659b2-5cf2-43d1-a9b3-1a5e944bbbff",
   "metadata": {},
   "outputs": [
    {
     "data": {
      "text/plain": [
       "[3, 4, 5]"
      ]
     },
     "execution_count": 15,
     "metadata": {},
     "output_type": "execute_result"
    }
   ],
   "source": [
    "my_list_max([1,2,3],[3,4,5])"
   ]
  },
  {
   "cell_type": "code",
   "execution_count": 16,
   "id": "329f4763-3f64-47c8-9975-109ea4963981",
   "metadata": {},
   "outputs": [],
   "source": [
    "def my_def(x):\n",
    "    return x * 2"
   ]
  },
  {
   "cell_type": "code",
   "execution_count": 17,
   "id": "a96a1274-6ff5-483c-b9ab-07de226f739b",
   "metadata": {},
   "outputs": [
    {
     "name": "stdout",
     "output_type": "stream",
     "text": [
      "10\n"
     ]
    }
   ],
   "source": [
    "a = my_def(5)\n",
    "print(a)"
   ]
  },
  {
   "cell_type": "code",
   "execution_count": 18,
   "id": "2e683cbf-9345-42d7-940d-1a91ece6b30b",
   "metadata": {},
   "outputs": [],
   "source": [
    "def my_def2(x):\n",
    "    print( x * 2)"
   ]
  },
  {
   "cell_type": "code",
   "execution_count": 19,
   "id": "7d768b9c-8506-41c9-9ad5-90ca392e1ae6",
   "metadata": {},
   "outputs": [
    {
     "name": "stdout",
     "output_type": "stream",
     "text": [
      "20\n"
     ]
    }
   ],
   "source": [
    "a = my_def(10)\n",
    "print(a)"
   ]
  },
  {
   "cell_type": "markdown",
   "id": "fd0d5f04-93cc-4fe7-a908-3375c25b3135",
   "metadata": {},
   "source": [
    "## 함수의 인수"
   ]
  },
  {
   "cell_type": "markdown",
   "id": "eb3050d2-02a5-47a1-97e1-b68539a44278",
   "metadata": {},
   "source": [
    "### 위치인수\n",
    "기본적으로 함수는 인수의 위치로 판단합니다"
   ]
  },
  {
   "cell_type": "code",
   "execution_count": 20,
   "id": "0768f55f-044d-4226-89ed-b477b402edb5",
   "metadata": {},
   "outputs": [],
   "source": [
    "def cylinder(r,h):\n",
    "    return 3.14 * r ** 2 *h"
   ]
  },
  {
   "cell_type": "code",
   "execution_count": 21,
   "id": "e9527572-48df-4922-bff3-04850103421a",
   "metadata": {},
   "outputs": [
    {
     "data": {
      "text/plain": [
       "785.0"
      ]
     },
     "execution_count": 21,
     "metadata": {},
     "output_type": "execute_result"
    }
   ],
   "source": [
    "cylinder(10,5)\n",
    "cylinder(5,10)"
   ]
  },
  {
   "cell_type": "code",
   "execution_count": 22,
   "id": "dca847a3-0aa1-4cc1-89ce-8e37866a1407",
   "metadata": {},
   "outputs": [
    {
     "name": "stdout",
     "output_type": "stream",
     "text": [
      "1570.0\n",
      "785.0\n"
     ]
    }
   ],
   "source": [
    "print(cylinder(10,5))\n",
    "print(cylinder(5,10))"
   ]
  },
  {
   "cell_type": "markdown",
   "id": "f6f0cfa6-a20d-48e4-b3ba-16633405a80b",
   "metadata": {},
   "source": [
    "### 기본값\n",
    "\n",
    "```python\n",
    "def func(p1 = value1)\n",
    "    code...\n",
    "    return p1\n",
    "```"
   ]
  },
  {
   "cell_type": "code",
   "execution_count": 23,
   "id": "374ce1b5-125f-4221-92e0-13137d2d648a",
   "metadata": {},
   "outputs": [],
   "source": [
    "def greeting(name = '익명'):\n",
    "    return f'{name}님 안녕하세요'"
   ]
  },
  {
   "cell_type": "code",
   "execution_count": 24,
   "id": "930b6838-48cc-4783-a432-93bbeb206277",
   "metadata": {},
   "outputs": [
    {
     "data": {
      "text/plain": [
       "'민정님 안녕하세요'"
      ]
     },
     "execution_count": 24,
     "metadata": {},
     "output_type": "execute_result"
    }
   ],
   "source": [
    "greeting('민정')"
   ]
  },
  {
   "cell_type": "code",
   "execution_count": 25,
   "id": "d9107485-9141-4b27-b3d9-4ec9faf44221",
   "metadata": {},
   "outputs": [
    {
     "data": {
      "text/plain": [
       "'익명님 안녕하세요'"
      ]
     },
     "execution_count": 25,
     "metadata": {},
     "output_type": "execute_result"
    }
   ],
   "source": [
    "greeting()"
   ]
  },
  {
   "cell_type": "code",
   "execution_count": 26,
   "id": "62e9409f-e882-4d1a-a969-0bfc47e6924f",
   "metadata": {},
   "outputs": [
    {
     "name": "stdout",
     "output_type": "stream",
     "text": [
      "hello!world\n"
     ]
    }
   ],
   "source": [
    "print('hello','world', sep = '!')"
   ]
  },
  {
   "cell_type": "code",
   "execution_count": 27,
   "id": "283f0bdc-da4a-4941-ad39-1d3b6c3edd8a",
   "metadata": {},
   "outputs": [],
   "source": [
    "def greeting(age, name = '익명'):   #기본값 인자는 위치인자보다 뒤에 나와야한다\n",
    "    return f'{name}님은 {age}살입니다.'"
   ]
  },
  {
   "cell_type": "code",
   "execution_count": 28,
   "id": "7232737c-8fc7-45f3-aa90-d49c3999d86e",
   "metadata": {},
   "outputs": [
    {
     "data": {
      "text/plain": [
       "'익명님은 50살입니다.'"
      ]
     },
     "execution_count": 28,
     "metadata": {},
     "output_type": "execute_result"
    }
   ],
   "source": [
    "greeting(50, '홍길동')\n",
    "greeting(50)"
   ]
  },
  {
   "cell_type": "markdown",
   "id": "66ded82d-d1bb-4444-8e10-d72ea7f3c30e",
   "metadata": {},
   "source": [
    "### 키워드 인자\n",
    "함수를 호출(실행)할때 내가 원하는 위치에 직접적으로 특정인자를 전달 가능"
   ]
  },
  {
   "cell_type": "code",
   "execution_count": 29,
   "id": "6fbe14c2-ab06-4d12-bfa7-4d6b5b4a559b",
   "metadata": {},
   "outputs": [],
   "source": [
    "def greeting(age, name = '익명'):   \n",
    "    return f'{name}님은 {age}살입니다.'"
   ]
  },
  {
   "cell_type": "code",
   "execution_count": 30,
   "id": "82bcc6a9-3929-4536-8c3f-2a9cdf0f6130",
   "metadata": {},
   "outputs": [
    {
     "name": "stdout",
     "output_type": "stream",
     "text": [
      "익명님은 10살입니다.\n",
      "홍길동님은 20살입니다.\n",
      "홍길동님은 30살입니다.\n"
     ]
    }
   ],
   "source": [
    "print(greeting(10))\n",
    "print(greeting(20, '홍길동'))\n",
    "print(greeting(name = '홍길동', age = 30))"
   ]
  },
  {
   "cell_type": "code",
   "execution_count": 31,
   "id": "ac32c69b-8dbd-46ab-a2b5-10090ae42c27",
   "metadata": {},
   "outputs": [
    {
     "name": "stdout",
     "output_type": "stream",
     "text": [
      "a b c d\n"
     ]
    }
   ],
   "source": [
    "print('a', 'b', 'c', 'd')  #가변인자"
   ]
  },
  {
   "cell_type": "markdown",
   "id": "42a3512c-56d0-4159-aa86-f4adc005146f",
   "metadata": {},
   "source": [
    "### 가변 인자 리스트\n",
    "```python\n",
    "def func(*parms):\n",
    "    code\n",
    "    ...\n",
    "```"
   ]
  },
  {
   "cell_type": "code",
   "execution_count": 32,
   "id": "e02bcbd5-2f32-4b3c-b4c6-da9595c20dbe",
   "metadata": {},
   "outputs": [],
   "source": [
    "def my_print(*words):   # * 개수가 정해지지 않은 데이터 받아야할때\n",
    "    print(words)\n",
    "    print(type(words))"
   ]
  },
  {
   "cell_type": "code",
   "execution_count": 33,
   "id": "7d29c6f3-294e-49f7-91e4-4679398449f5",
   "metadata": {},
   "outputs": [
    {
     "name": "stdout",
     "output_type": "stream",
     "text": [
      "('a', 'b', 'c', 'd')\n",
      "<class 'tuple'>\n"
     ]
    }
   ],
   "source": [
    "my_print('a', 'b', 'c', 'd')"
   ]
  },
  {
   "cell_type": "code",
   "execution_count": 34,
   "id": "f4358244-fc57-40ad-8731-64f60a5e035d",
   "metadata": {},
   "outputs": [
    {
     "name": "stdout",
     "output_type": "stream",
     "text": [
      "a b c d 공간\n",
      "a공간b공간c공간d\n"
     ]
    }
   ],
   "source": [
    "print('a', 'b', 'c', 'd', '공간')\n",
    "print('a', 'b', 'c', 'd', sep='공간')  #가변인자에서는 키워드 인자 써야한다"
   ]
  },
  {
   "cell_type": "code",
   "execution_count": 35,
   "id": "e6de8baa-2a81-404c-878e-f1d6cee15bef",
   "metadata": {},
   "outputs": [
    {
     "data": {
      "text/plain": [
       "7"
      ]
     },
     "execution_count": 35,
     "metadata": {},
     "output_type": "execute_result"
    }
   ],
   "source": [
    "max(1, 2, 3, 4, 5, 6, 7)"
   ]
  },
  {
   "cell_type": "code",
   "execution_count": 36,
   "id": "0fa224ef-03d5-45a2-bb57-86c9ae1ae538",
   "metadata": {},
   "outputs": [],
   "source": [
    "#여러개ㅡ이 숫자를 받아 그중 가장 큰수를 리턴\n",
    "def my_max(*numbers):     #튜플로 묶어줌 단순 여려개의 값\n",
    "    result = numbers[0]\n",
    "    \n",
    "    for number in numbers:\n",
    "        if result < number:\n",
    "            result = number\n",
    "\n",
    "    return result"
   ]
  },
  {
   "cell_type": "code",
   "execution_count": 37,
   "id": "74658ba6-c012-4c09-a1c5-21ca0954e823",
   "metadata": {},
   "outputs": [
    {
     "name": "stdout",
     "output_type": "stream",
     "text": [
      "5\n",
      "-1\n"
     ]
    }
   ],
   "source": [
    "print(my_max(1, 2, 3, 4, 5))\n",
    "print(my_max(-1, -2, -3,))"
   ]
  },
  {
   "cell_type": "markdown",
   "id": "f68544bd-45a2-4a9e-b4c6-f6ed45e52ae9",
   "metadata": {},
   "source": [
    "### 정의되지 않은 키워드 인자 처리하기\n",
    "\n",
    "```python\n",
    "def func(**kwargs):   #어떠한 밸류가 들어 올지 모르는 상태에서\n",
    "    code\n",
    "    ...\n",
    "```"
   ]
  },
  {
   "cell_type": "code",
   "execution_count": 38,
   "id": "6788b429-8c18-4bb9-af4e-98b4adbdb938",
   "metadata": {},
   "outputs": [
    {
     "name": "stdout",
     "output_type": "stream",
     "text": [
      "{'name': 'hong', 'age': 10}\n"
     ]
    }
   ],
   "source": [
    "info = {\n",
    "    'name' : 'hong',\n",
    "    'age' : 10,\n",
    "}\n",
    "print(info)"
   ]
  },
  {
   "cell_type": "code",
   "execution_count": 39,
   "id": "98903dc5-011d-4d29-8a7f-2bc79e69206f",
   "metadata": {},
   "outputs": [
    {
     "name": "stdout",
     "output_type": "stream",
     "text": [
      "{'name': 'hong', 'age': 20}\n"
     ]
    }
   ],
   "source": [
    "info = dict(name = 'hong', age = 20)\n",
    "print(info)"
   ]
  },
  {
   "cell_type": "code",
   "execution_count": 40,
   "id": "bc4b9a69-972a-4d20-9a5c-e2501e7e9008",
   "metadata": {},
   "outputs": [],
   "source": [
    "def fake_dict(**kwargs):   #키워드 밸류 가져올때\n",
    "    print(kwargs)"
   ]
  },
  {
   "cell_type": "code",
   "execution_count": 41,
   "id": "b92362e7-9eac-4f4e-867d-2f5945c9faa5",
   "metadata": {},
   "outputs": [
    {
     "name": "stdout",
     "output_type": "stream",
     "text": [
      "{'a': 10, 'b': 20}\n"
     ]
    }
   ],
   "source": [
    "fake_dict(a = 10, b = 20)"
   ]
  },
  {
   "cell_type": "code",
   "execution_count": 42,
   "id": "be174481-09f0-4f4e-a606-12edad989a5b",
   "metadata": {},
   "outputs": [],
   "source": [
    "def fake_dict(**kwargs):\n",
    "    for key, value in kwargs.items():\n",
    "        print(f'{key}는 {value}입니다.')"
   ]
  },
  {
   "cell_type": "code",
   "execution_count": 43,
   "id": "ab21a5e7-7e9e-4115-8641-b28651c7f737",
   "metadata": {},
   "outputs": [
    {
     "name": "stdout",
     "output_type": "stream",
     "text": [
      "a는 10입니다.\n",
      "b는 20입니다.\n",
      "korean는 안녕입니다.\n",
      "english는 hello입니다.\n"
     ]
    }
   ],
   "source": [
    "fake_dict(a = 10, b = 20)\n",
    "fake_dict(korean = '안녕', english='hello')"
   ]
  },
  {
   "cell_type": "markdown",
   "id": "3bf9c357-8880-4f2b-875b-50bea0eb3d3d",
   "metadata": {},
   "source": [
    "### dictionary를 인자로 넣기(unpacking)"
   ]
  },
  {
   "cell_type": "code",
   "execution_count": 44,
   "id": "c06b5deb-8f1b-4dbd-99fb-cdb9a5d852bf",
   "metadata": {},
   "outputs": [],
   "source": [
    "def sign_up(id, pw, pw_confirmation):\n",
    "    if pw == pw_confirmation:\n",
    "        print(f'{id}님 회원가입이 완료되었습니다.')\n",
    "    else:\n",
    "        print('비밀번호가 일치하지 않습니다')"
   ]
  },
  {
   "cell_type": "code",
   "execution_count": 45,
   "id": "2af4e52b-217d-4492-aedb-a7c548d80190",
   "metadata": {},
   "outputs": [
    {
     "name": "stdout",
     "output_type": "stream",
     "text": [
      "change님 회원가입이 완료되었습니다.\n"
     ]
    }
   ],
   "source": [
    "sign_up('change', '1234', '1234')"
   ]
  },
  {
   "cell_type": "code",
   "execution_count": 46,
   "id": "ffd1a766-a0ea-450c-9367-d4a0546fab71",
   "metadata": {},
   "outputs": [
    {
     "name": "stdout",
     "output_type": "stream",
     "text": [
      "비밀번호가 일치하지 않습니다\n"
     ]
    }
   ],
   "source": [
    "sign_up('change', '1234', '12345')"
   ]
  },
  {
   "cell_type": "code",
   "execution_count": 47,
   "id": "b5720ba6-5723-4f2b-b82b-50950fd32e90",
   "metadata": {},
   "outputs": [
    {
     "name": "stdout",
     "output_type": "stream",
     "text": [
      "change님 회원가입이 완료되었습니다.\n"
     ]
    }
   ],
   "source": [
    "account = {\n",
    "    'id' : 'change',\n",
    "    'pw' : '1234',\n",
    "    'pw_confirmation' : '1234'\n",
    "    \n",
    "}\n",
    "sign_up(**account)"
   ]
  },
  {
   "cell_type": "markdown",
   "id": "e56e5411-94ef-4401-95d0-1de63776d9f0",
   "metadata": {},
   "source": [
    "### lambda표현식\n",
    "\n",
    "```python\n",
    "lambda parameter : expression\n",
    "```"
   ]
  },
  {
   "cell_type": "code",
   "execution_count": 48,
   "id": "13da4206-a2c2-421a-b540-c19d56cbf2aa",
   "metadata": {},
   "outputs": [
    {
     "data": {
      "text/plain": [
       "3"
      ]
     },
     "execution_count": 48,
     "metadata": {},
     "output_type": "execute_result"
    }
   ],
   "source": [
    "(lambda x, y: x + y)(1,2)    #"
   ]
  },
  {
   "cell_type": "code",
   "execution_count": 49,
   "id": "ee2a916e-bebc-46ea-97ef-82602e223d20",
   "metadata": {},
   "outputs": [
    {
     "data": {
      "text/plain": [
       "3"
      ]
     },
     "execution_count": 49,
     "metadata": {},
     "output_type": "execute_result"
    }
   ],
   "source": [
    "def my_sum(x, y):\n",
    "    return x + y\n",
    "\n",
    "my_sum(1,2)"
   ]
  },
  {
   "cell_type": "markdown",
   "id": "630db3bd-e8f7-4c78-a5cb-6824b7e8e955",
   "metadata": {},
   "source": [
    "### 타입힌트"
   ]
  },
  {
   "cell_type": "code",
   "execution_count": 50,
   "id": "a4db1451-fc0b-41d1-bd53-36d7010a0159",
   "metadata": {},
   "outputs": [],
   "source": [
    "def my_sum(a: int, b: int) -> int:\n",
    "    return a + b"
   ]
  },
  {
   "cell_type": "code",
   "execution_count": 51,
   "id": "13fb6675-ad90-40ec-91d1-2dbcf02ac05e",
   "metadata": {},
   "outputs": [
    {
     "ename": "TypeError",
     "evalue": "can only concatenate str (not \"int\") to str",
     "output_type": "error",
     "traceback": [
      "\u001b[0;31m---------------------------------------------------------------------------\u001b[0m",
      "\u001b[0;31mTypeError\u001b[0m                                 Traceback (most recent call last)",
      "Cell \u001b[0;32mIn[51], line 1\u001b[0m\n\u001b[0;32m----> 1\u001b[0m \u001b[43mmy_sum\u001b[49m\u001b[43m(\u001b[49m\u001b[38;5;124;43m'\u001b[39;49m\u001b[38;5;124;43m1\u001b[39;49m\u001b[38;5;124;43m'\u001b[39;49m\u001b[43m,\u001b[49m\u001b[43m \u001b[49m\u001b[38;5;241;43m2\u001b[39;49m\u001b[43m)\u001b[49m\n",
      "Cell \u001b[0;32mIn[50], line 2\u001b[0m, in \u001b[0;36mmy_sum\u001b[0;34m(a, b)\u001b[0m\n\u001b[1;32m      1\u001b[0m \u001b[38;5;28;01mdef\u001b[39;00m \u001b[38;5;21mmy_sum\u001b[39m(a: \u001b[38;5;28mint\u001b[39m, b: \u001b[38;5;28mint\u001b[39m) \u001b[38;5;241m-\u001b[39m\u001b[38;5;241m>\u001b[39m \u001b[38;5;28mint\u001b[39m:\n\u001b[0;32m----> 2\u001b[0m     \u001b[38;5;28;01mreturn\u001b[39;00m \u001b[43ma\u001b[49m\u001b[43m \u001b[49m\u001b[38;5;241;43m+\u001b[39;49m\u001b[43m \u001b[49m\u001b[43mb\u001b[49m\n",
      "\u001b[0;31mTypeError\u001b[0m: can only concatenate str (not \"int\") to str"
     ]
    }
   ],
   "source": [
    "my_sum('1', 2)"
   ]
  },
  {
   "cell_type": "markdown",
   "id": "54dd784a-4c72-41f3-91cc-68e93b298cae",
   "metadata": {},
   "source": [
    "### 이름공간(scope)\n",
    "python에서 사용되는 이름들은 이름공간(namespace)에 저장되어있습니다.\n",
    "\n",
    "- Local scope: 정의된 함수 내부\n",
    "- Enclosed scope: 상위 함수\n",
    "- Global scope: 함수 밖의 변수 혹은 import된 모듈\n",
    "- Built-in scope: python이 기본적으로 가지고 있는 함수 혹은 변수"
   ]
  },
  {
   "cell_type": "code",
   "execution_count": 52,
   "id": "88e9fd7e-6631-494a-adb8-47134e4fe11a",
   "metadata": {},
   "outputs": [],
   "source": [
    "str = '123'        "
   ]
  },
  {
   "cell_type": "code",
   "execution_count": 53,
   "id": "b87259d5-5868-45e4-859b-1efc18d88759",
   "metadata": {},
   "outputs": [
    {
     "name": "stdout",
     "output_type": "stream",
     "text": [
      "123\n"
     ]
    }
   ],
   "source": [
    "print(str)"
   ]
  },
  {
   "cell_type": "code",
   "execution_count": 54,
   "id": "7a2054bb-6d18-41d5-8856-a64677c149c5",
   "metadata": {},
   "outputs": [
    {
     "ename": "TypeError",
     "evalue": "'str' object is not callable",
     "output_type": "error",
     "traceback": [
      "\u001b[0;31m---------------------------------------------------------------------------\u001b[0m",
      "\u001b[0;31mTypeError\u001b[0m                                 Traceback (most recent call last)",
      "Cell \u001b[0;32mIn[54], line 1\u001b[0m\n\u001b[0;32m----> 1\u001b[0m \u001b[38;5;28;43mstr\u001b[39;49m\u001b[43m(\u001b[49m\u001b[38;5;241;43m123\u001b[39;49m\u001b[43m)\u001b[49m   \u001b[38;5;66;03m#str 미리 만들어놔서(가까운곳에)  원래 str못 찾음\u001b[39;00m\n",
      "\u001b[0;31mTypeError\u001b[0m: 'str' object is not callable"
     ]
    }
   ],
   "source": [
    "str(123)   #str 미리 만들어놔서(가까운곳에)  원래 str못 찾음"
   ]
  },
  {
   "cell_type": "code",
   "execution_count": 55,
   "id": "c27977d9-ce2b-46cb-afa3-7e77a6524770",
   "metadata": {},
   "outputs": [],
   "source": [
    "del str    #[1]str = '123' 지움"
   ]
  },
  {
   "cell_type": "code",
   "execution_count": 56,
   "id": "f9770f96-5f41-4d6d-a63a-42db93519fe6",
   "metadata": {},
   "outputs": [
    {
     "data": {
      "text/plain": [
       "'123'"
      ]
     },
     "execution_count": 56,
     "metadata": {},
     "output_type": "execute_result"
    }
   ],
   "source": [
    "str(123)"
   ]
  },
  {
   "cell_type": "markdown",
   "id": "449209bd-43c8-4422-92e8-848df4a5595b",
   "metadata": {},
   "source": [
    "## 재귀(recursive)\n",
    "재귀함수는 함수 내부에서 자기 자신을 호출하는 함수를 의미한다."
   ]
  },
  {
   "cell_type": "code",
   "execution_count": 60,
   "id": "d00e42f5-0e26-4964-9330-cb2e9b24d07b",
   "metadata": {},
   "outputs": [
    {
     "name": "stdout",
     "output_type": "stream",
     "text": [
      "120\n"
     ]
    }
   ],
   "source": [
    "#팩토리얼(n! = 1 *2 * 3* ...*n)\n",
    "def fact(n):\n",
    "    result = 1\n",
    "\n",
    "    while n > 1:\n",
    "        result = result * n\n",
    "        # result *= n\n",
    "        \n",
    "        n = n-1\n",
    "        # n -= 1\n",
    "\n",
    "    return result\n",
    "print(fact(5))\n",
    "\n"
   ]
  },
  {
   "cell_type": "markdown",
   "id": "6fd79f44-4f1e-4658-b427-feeb7904f0ff",
   "metadata": {},
   "source": [
    "n! = 1 * 2 * 3 * ... * n-1 * n\n",
    "\n",
    "- 1! = 1\n",
    "- 2! = 1 * 2 = 1! * 2\n",
    "- 3! = 1 * 2 * 3 = 2! * 3\n",
    "- 4! = 1 * 2 * 3 * 4 = 3! * 4"
   ]
  },
  {
   "cell_type": "markdown",
   "id": "ea085565-a6d9-43f7-ad54-9ddd01102beb",
   "metadata": {},
   "source": []
  },
  {
   "cell_type": "code",
   "execution_count": 62,
   "id": "c111ca92-a495-446c-b7dd-d08c4e57b932",
   "metadata": {},
   "outputs": [
    {
     "name": "stdout",
     "output_type": "stream",
     "text": [
      "120\n"
     ]
    }
   ],
   "source": [
    "def factorial(n):\n",
    "    if n <= 1:\n",
    "        return 1\n",
    "    else:\n",
    "        return factorial(n-1) * n\n",
    "\n",
    "print(factorial(5))"
   ]
  },
  {
   "cell_type": "markdown",
   "id": "6f2bdb0d-5223-45c7-ac93-a0f8be5ecc66",
   "metadata": {},
   "source": [
    "### 피보나치 수열\n",
    "- F(0) = F(1) = 1\n",
    "- F(N) = F(N-1) + F(N-2)\n"
   ]
  },
  {
   "cell_type": "code",
   "execution_count": 64,
   "id": "ddb226c5-5e54-4d48-b617-61ea683f0111",
   "metadata": {},
   "outputs": [
    {
     "name": "stdout",
     "output_type": "stream",
     "text": [
      "573147844013817084101\n"
     ]
    }
   ],
   "source": [
    "# 반복문\n",
    "def fib_loop(n):\n",
    "    result = [1, 1]\n",
    "\n",
    "    for i in range(1, n):\n",
    "        end1 = result[-1]\n",
    "        end2 = result[-2]\n",
    "\n",
    "        fib_num = end1 + end2\n",
    "\n",
    "        result.append(fib_num)\n",
    "\n",
    "    return result[-1]\n",
    "\n",
    "print(fib_loop(100))"
   ]
  },
  {
   "cell_type": "code",
   "execution_count": 65,
   "id": "2ce0285d-38aa-49d4-b131-b8617f388fe7",
   "metadata": {},
   "outputs": [
    {
     "name": "stdout",
     "output_type": "stream",
     "text": [
      "89\n"
     ]
    }
   ],
   "source": [
    "# 재귀\n",
    "def fib_rec(n):\n",
    "    if n == 0 or n == 1:\n",
    "        return 1\n",
    "    else:\n",
    "        return fib_rec(n-1) + fib_rec(n-2)\n",
    "\n",
    "print(fib_rec(10))"
   ]
  },
  {
   "cell_type": "code",
   "execution_count": null,
   "id": "0a39ecc6-7066-41b5-897c-a14865871805",
   "metadata": {},
   "outputs": [],
   "source": [
    "# 재귀\n",
    "def fib_rec(n):\n",
    "    if n == 0 or n == 1:\n",
    "        return 1\n",
    "    else:\n",
    "        return fib_rec(n-1) + fib_rec(n-2)\n",
    "\n",
    "print(fib_rec(100))"
   ]
  },
  {
   "cell_type": "code",
   "execution_count": null,
   "id": "75a77f7b-4585-4ac7-9f64-9933bddd7126",
   "metadata": {},
   "outputs": [],
   "source": []
  },
  {
   "cell_type": "code",
   "execution_count": null,
   "id": "9ea00368-4ba9-419e-9f71-e93dc862ffea",
   "metadata": {},
   "outputs": [],
   "source": []
  },
  {
   "cell_type": "code",
   "execution_count": null,
   "id": "dcb86bc4-15d8-4415-b73a-ae4dd3c49382",
   "metadata": {},
   "outputs": [],
   "source": []
  },
  {
   "cell_type": "code",
   "execution_count": null,
   "id": "cdf98965-4e82-4b6d-8d7e-fd58596fcbb4",
   "metadata": {},
   "outputs": [],
   "source": []
  },
  {
   "cell_type": "code",
   "execution_count": null,
   "id": "bc798b16-cca4-4c30-afab-9cb661dbc47f",
   "metadata": {},
   "outputs": [],
   "source": []
  },
  {
   "cell_type": "code",
   "execution_count": null,
   "id": "992b1357-b4be-472f-9e3f-11b3109a8724",
   "metadata": {},
   "outputs": [],
   "source": []
  },
  {
   "cell_type": "code",
   "execution_count": null,
   "id": "1305e5dd-56c1-43d1-a49e-077e41bca906",
   "metadata": {},
   "outputs": [],
   "source": []
  },
  {
   "cell_type": "code",
   "execution_count": null,
   "id": "b85f9755-3ce7-42d6-a3e8-52ec539788a1",
   "metadata": {},
   "outputs": [],
   "source": []
  },
  {
   "cell_type": "code",
   "execution_count": null,
   "id": "b4d959ef-429b-4cc0-95af-f5b977c75083",
   "metadata": {},
   "outputs": [],
   "source": []
  }
 ],
 "metadata": {
  "kernelspec": {
   "display_name": "Python 3 (ipykernel)",
   "language": "python",
   "name": "python3"
  },
  "language_info": {
   "codemirror_mode": {
    "name": "ipython",
    "version": 3
   },
   "file_extension": ".py",
   "mimetype": "text/x-python",
   "name": "python",
   "nbconvert_exporter": "python",
   "pygments_lexer": "ipython3",
   "version": "3.11.5"
  }
 },
 "nbformat": 4,
 "nbformat_minor": 5
}
