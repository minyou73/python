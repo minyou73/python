{
 "cells": [
  {
   "cell_type": "markdown",
   "id": "c9afbebc-dbb8-4de7-a4c7-96519f55c73b",
   "metadata": {},
   "source": [
    "# 제어문"
   ]
  },
  {
   "cell_type": "markdown",
   "id": "6ef0d4f1-5962-4fd6-8817-a3627dcaf989",
   "metadata": {},
   "source": [
    "## 조건문(if문)\n",
    "\n",
    "```python\n",
    "if<조건식>:\n",
    "    if의 조건식이 참인 경우 실행하는 코드\n",
    "else:\n",
    "    if의 조건식이 거짓인 경우 실행하는 코드\n",
    "    \n",
    "```\n",
    "\n",
    "1. `if`문은 반드시 참/거짓을 판단 할수 있는 조건식과 함께 사용한다.\n",
    "2. `조건식`이 참인 경우 : 이후의 문장을 실행한다\n",
    "3. `조건식`이 거짓인 경우: `else`: 이후의 문장을 실행한다"
   ]
  },
  {
   "cell_type": "code",
   "execution_count": 4,
   "id": "a7f04a81-1203-472b-8a4c-a25425e6be16",
   "metadata": {},
   "outputs": [
    {
     "name": "stdin",
     "output_type": "stream",
     "text": [
      " 12/24\n"
     ]
    },
    {
     "name": "stdout",
     "output_type": "stream",
     "text": [
      "크리스마스가 아닙니다\n"
     ]
    }
   ],
   "source": [
    "mystring = input()\n",
    "\n",
    "if mystring == '12/25':\n",
    "    print('크리스마스입니다')\n",
    "else:\n",
    "    print('크리스마스가 아닙니다')"
   ]
  },
  {
   "cell_type": "code",
   "execution_count": 12,
   "id": "01ddca59-d938-43de-b816-943ea2e3eaa6",
   "metadata": {},
   "outputs": [
    {
     "name": "stdin",
     "output_type": "stream",
     "text": [
      "숫자를 입력해주세요: 123\n"
     ]
    },
    {
     "name": "stdout",
     "output_type": "stream",
     "text": [
      "홀수입니다\n"
     ]
    }
   ],
   "source": [
    "num = input('숫자를 입력해주세요:')  ## int(input)\n",
    "num = int(num)\n",
    "\n",
    "if num % 2 == 0: \n",
    "    print('짝수입니다')\n",
    "else:\n",
    "    print('홀수입니다')"
   ]
  },
  {
   "cell_type": "code",
   "execution_count": 13,
   "id": "756cd7c9-3a08-43f8-8ecd-3e0e4dfafa11",
   "metadata": {},
   "outputs": [
    {
     "name": "stdin",
     "output_type": "stream",
     "text": [
      "숫자를 입력해주세요: 123\n"
     ]
    },
    {
     "name": "stdout",
     "output_type": "stream",
     "text": [
      "홀수입니다\n"
     ]
    }
   ],
   "source": [
    "num = input('숫자를 입력해주세요:')  ## int(input)\n",
    "num = int(num)\n",
    "\n",
    "if num % 2 == 1: \n",
    "    print('홀수입니다')\n",
    "else:\n",
    "    print('짝수입니다')"
   ]
  },
  {
   "cell_type": "code",
   "execution_count": 14,
   "id": "f5e3489a-eb56-40e9-b9b2-3a2201e2ff3d",
   "metadata": {},
   "outputs": [
    {
     "name": "stdin",
     "output_type": "stream",
     "text": [
      "숫자를 입력해주세요: 11\n"
     ]
    },
    {
     "name": "stdout",
     "output_type": "stream",
     "text": [
      "홀수입니다\n"
     ]
    }
   ],
   "source": [
    "# num을 2로 나눈 나머지는 0,1 두가지 경우가 있다\n",
    "# if조건식에 0,1은 자동형변환이 일어나 True, False로 변환된다.\n",
    "num = input('숫자를 입력해주세요:')  ## int(input)\n",
    "num = int(num)\n",
    "\n",
    "if num % 2 : \n",
    "    print('홀수입니다')\n",
    "else:\n",
    "    print('짝수입니다')"
   ]
  },
  {
   "cell_type": "markdown",
   "id": "b5283dc1-a831-4214-bd4c-6f1066d990d8",
   "metadata": {},
   "source": [
    "### elif\n",
    "\n",
    "```python\n",
    "if<조건식>:\n",
    "    if 조건이 참인경우 실행\n",
    "elif<조건식>:\n",
    "    elif 조건이 참인 경우 실행\n",
    "...    \n",
    "else:\n",
    "    위의 조건식에 하나도 부합하지 않는 경우 실행\n",
    "```"
   ]
  },
  {
   "cell_type": "code",
   "execution_count": 23,
   "id": "1d746d2f-d197-4d67-a420-5998148540bf",
   "metadata": {},
   "outputs": [
    {
     "name": "stdin",
     "output_type": "stream",
     "text": [
      "점수를 입력하세요:  12\n"
     ]
    },
    {
     "name": "stdout",
     "output_type": "stream",
     "text": [
      "F입니다\n"
     ]
    }
   ],
   "source": [
    "score = int(input('점수를 입력하세요: '))\n",
    "\n",
    "if score >= 90:\n",
    "    print('A입니다')\n",
    "    if score>= 95:\n",
    "        print('Good!')\n",
    "elif score >= 80:\n",
    "    print('B입니다')\n",
    "elif score >= 70:\n",
    "    print('C입니다')\n",
    "else:\n",
    "    print('F입니다')\n",
    "\n",
    "# 95점 이상 Good    \n",
    "# 90점 이상 A\n",
    "# 80점 이상 B\n",
    "# 70점 이상 C\n",
    "# 나머지 F"
   ]
  },
  {
   "cell_type": "code",
   "execution_count": null,
   "id": "92cad772-7faf-4f0b-a5d1-d63d4bfd0684",
   "metadata": {},
   "outputs": [],
   "source": []
  },
  {
   "cell_type": "code",
   "execution_count": null,
   "id": "909c40ed-df61-4da9-add2-c6bb9adce3c4",
   "metadata": {},
   "outputs": [],
   "source": []
  },
  {
   "cell_type": "code",
   "execution_count": null,
   "id": "c5e2c082-0072-4320-9be4-530f851cac42",
   "metadata": {},
   "outputs": [],
   "source": []
  },
  {
   "cell_type": "code",
   "execution_count": null,
   "id": "5a11c83a-a2b7-4e64-87b4-0d90ded85336",
   "metadata": {},
   "outputs": [],
   "source": []
  },
  {
   "cell_type": "code",
   "execution_count": null,
   "id": "b5cf9c13-9d0e-4079-b4bc-df9c70eac79e",
   "metadata": {},
   "outputs": [],
   "source": []
  },
  {
   "cell_type": "code",
   "execution_count": null,
   "id": "3eb69201-506d-45fd-9233-3af99a4561d3",
   "metadata": {},
   "outputs": [],
   "source": []
  },
  {
   "cell_type": "code",
   "execution_count": null,
   "id": "8daf0d30-33b2-4cb9-85e4-d8bee376fa22",
   "metadata": {},
   "outputs": [],
   "source": []
  }
 ],
 "metadata": {
  "kernelspec": {
   "display_name": "Python 3 (ipykernel)",
   "language": "python",
   "name": "python3"
  },
  "language_info": {
   "codemirror_mode": {
    "name": "ipython",
    "version": 3
   },
   "file_extension": ".py",
   "mimetype": "text/x-python",
   "name": "python",
   "nbconvert_exporter": "python",
   "pygments_lexer": "ipython3",
   "version": "3.11.5"
  }
 },
 "nbformat": 4,
 "nbformat_minor": 5
}
